{
 "cells": [
  {
   "cell_type": "code",
   "execution_count": 1,
   "metadata": {},
   "outputs": [],
   "source": [
    "import librosa\n",
    "import librosa.display\n",
    "import matplotlib.pyplot as plt\n",
    "import numpy as np\n",
    "import soundfile as sf\n",
    "import pandas as pd\n",
    "import tensorflow as tf\n",
    "from operator import itemgetter\n",
    "import os\n",
    "import warnings\n",
    "warnings.filterwarnings(\"ignore\")"
   ]
  },
  {
   "cell_type": "code",
   "execution_count": 2,
   "metadata": {},
   "outputs": [],
   "source": [
    "df = pd.read_csv('taal/Trained_Audio_Labels_taal.csv')"
   ]
  },
  {
   "cell_type": "code",
   "execution_count": 3,
   "metadata": {},
   "outputs": [
    {
     "data": {
      "text/html": [
       "<div>\n",
       "<style scoped>\n",
       "    .dataframe tbody tr th:only-of-type {\n",
       "        vertical-align: middle;\n",
       "    }\n",
       "\n",
       "    .dataframe tbody tr th {\n",
       "        vertical-align: top;\n",
       "    }\n",
       "\n",
       "    .dataframe thead th {\n",
       "        text-align: right;\n",
       "    }\n",
       "</style>\n",
       "<table border=\"1\" class=\"dataframe\">\n",
       "  <thead>\n",
       "    <tr style=\"text-align: right;\">\n",
       "      <th></th>\n",
       "      <th>filename</th>\n",
       "      <th>onset</th>\n",
       "      <th>offset</th>\n",
       "      <th>class</th>\n",
       "    </tr>\n",
       "  </thead>\n",
       "  <tbody>\n",
       "    <tr>\n",
       "      <th>0</th>\n",
       "      <td>mixed_audio0a.wav</td>\n",
       "      <td>0.00000</td>\n",
       "      <td>4.08306</td>\n",
       "      <td>silence</td>\n",
       "    </tr>\n",
       "    <tr>\n",
       "      <th>1</th>\n",
       "      <td>mixed_audio0a.wav</td>\n",
       "      <td>4.08306</td>\n",
       "      <td>5.08306</td>\n",
       "      <td>music</td>\n",
       "    </tr>\n",
       "    <tr>\n",
       "      <th>2</th>\n",
       "      <td>mixed_audio0a.wav</td>\n",
       "      <td>5.08306</td>\n",
       "      <td>6.90256</td>\n",
       "      <td>silence</td>\n",
       "    </tr>\n",
       "    <tr>\n",
       "      <th>3</th>\n",
       "      <td>mixed_audio0a.wav</td>\n",
       "      <td>6.90256</td>\n",
       "      <td>9.90256</td>\n",
       "      <td>speech</td>\n",
       "    </tr>\n",
       "    <tr>\n",
       "      <th>4</th>\n",
       "      <td>mixed_audio0a.wav</td>\n",
       "      <td>9.90256</td>\n",
       "      <td>10.00000</td>\n",
       "      <td>silence</td>\n",
       "    </tr>\n",
       "    <tr>\n",
       "      <th>...</th>\n",
       "      <td>...</td>\n",
       "      <td>...</td>\n",
       "      <td>...</td>\n",
       "      <td>...</td>\n",
       "    </tr>\n",
       "    <tr>\n",
       "      <th>1187</th>\n",
       "      <td>mixed_audio9a.wav</td>\n",
       "      <td>0.00000</td>\n",
       "      <td>3.35275</td>\n",
       "      <td>silence</td>\n",
       "    </tr>\n",
       "    <tr>\n",
       "      <th>1188</th>\n",
       "      <td>mixed_audio9a.wav</td>\n",
       "      <td>3.35275</td>\n",
       "      <td>6.35275</td>\n",
       "      <td>speech</td>\n",
       "    </tr>\n",
       "    <tr>\n",
       "      <th>1189</th>\n",
       "      <td>mixed_audio9a.wav</td>\n",
       "      <td>6.35275</td>\n",
       "      <td>6.71350</td>\n",
       "      <td>silence</td>\n",
       "    </tr>\n",
       "    <tr>\n",
       "      <th>1190</th>\n",
       "      <td>mixed_audio9a.wav</td>\n",
       "      <td>6.71350</td>\n",
       "      <td>9.71350</td>\n",
       "      <td>music</td>\n",
       "    </tr>\n",
       "    <tr>\n",
       "      <th>1191</th>\n",
       "      <td>mixed_audio9a.wav</td>\n",
       "      <td>9.71350</td>\n",
       "      <td>10.00000</td>\n",
       "      <td>silence</td>\n",
       "    </tr>\n",
       "  </tbody>\n",
       "</table>\n",
       "<p>1192 rows × 4 columns</p>\n",
       "</div>"
      ],
      "text/plain": [
       "               filename    onset    offset    class\n",
       "0     mixed_audio0a.wav  0.00000   4.08306  silence\n",
       "1     mixed_audio0a.wav  4.08306   5.08306    music\n",
       "2     mixed_audio0a.wav  5.08306   6.90256  silence\n",
       "3     mixed_audio0a.wav  6.90256   9.90256   speech\n",
       "4     mixed_audio0a.wav  9.90256  10.00000  silence\n",
       "...                 ...      ...       ...      ...\n",
       "1187  mixed_audio9a.wav  0.00000   3.35275  silence\n",
       "1188  mixed_audio9a.wav  3.35275   6.35275   speech\n",
       "1189  mixed_audio9a.wav  6.35275   6.71350  silence\n",
       "1190  mixed_audio9a.wav  6.71350   9.71350    music\n",
       "1191  mixed_audio9a.wav  9.71350  10.00000  silence\n",
       "\n",
       "[1192 rows x 4 columns]"
      ]
     },
     "execution_count": 3,
     "metadata": {},
     "output_type": "execute_result"
    }
   ],
   "source": [
    "df"
   ]
  },
  {
   "cell_type": "code",
   "execution_count": 4,
   "metadata": {},
   "outputs": [],
   "source": [
    "df.rename({'class':'class_name'},axis=1,inplace=True)"
   ]
  },
  {
   "cell_type": "markdown",
   "metadata": {},
   "source": [
    "### Spliting the data into Training and Testing/Validation data"
   ]
  },
  {
   "cell_type": "code",
   "execution_count": 5,
   "metadata": {},
   "outputs": [],
   "source": [
    "df_train=df.sample(frac=0.85,random_state=200)"
   ]
  },
  {
   "cell_type": "code",
   "execution_count": 6,
   "metadata": {},
   "outputs": [],
   "source": [
    "df_test = df.drop(df_train.index)"
   ]
  },
  {
   "cell_type": "code",
   "execution_count": 7,
   "metadata": {},
   "outputs": [
    {
     "data": {
      "text/html": [
       "<div>\n",
       "<style scoped>\n",
       "    .dataframe tbody tr th:only-of-type {\n",
       "        vertical-align: middle;\n",
       "    }\n",
       "\n",
       "    .dataframe tbody tr th {\n",
       "        vertical-align: top;\n",
       "    }\n",
       "\n",
       "    .dataframe thead th {\n",
       "        text-align: right;\n",
       "    }\n",
       "</style>\n",
       "<table border=\"1\" class=\"dataframe\">\n",
       "  <thead>\n",
       "    <tr style=\"text-align: right;\">\n",
       "      <th></th>\n",
       "      <th>filename</th>\n",
       "      <th>onset</th>\n",
       "      <th>offset</th>\n",
       "      <th>class_name</th>\n",
       "    </tr>\n",
       "  </thead>\n",
       "  <tbody>\n",
       "    <tr>\n",
       "      <th>716</th>\n",
       "      <td>mixed_audio22a.wav</td>\n",
       "      <td>5.42231</td>\n",
       "      <td>9.42231</td>\n",
       "      <td>music</td>\n",
       "    </tr>\n",
       "    <tr>\n",
       "      <th>599</th>\n",
       "      <td>mixed_audio209a.wav</td>\n",
       "      <td>0.26362</td>\n",
       "      <td>4.26362</td>\n",
       "      <td>speech</td>\n",
       "    </tr>\n",
       "    <tr>\n",
       "      <th>402</th>\n",
       "      <td>mixed_audio173a.wav</td>\n",
       "      <td>9.47569</td>\n",
       "      <td>10.00000</td>\n",
       "      <td>silence</td>\n",
       "    </tr>\n",
       "    <tr>\n",
       "      <th>1019</th>\n",
       "      <td>mixed_audio69a.wav</td>\n",
       "      <td>1.00306</td>\n",
       "      <td>4.00306</td>\n",
       "      <td>music</td>\n",
       "    </tr>\n",
       "    <tr>\n",
       "      <th>191</th>\n",
       "      <td>mixed_audio134a.wav</td>\n",
       "      <td>4.29487</td>\n",
       "      <td>4.62350</td>\n",
       "      <td>silence</td>\n",
       "    </tr>\n",
       "    <tr>\n",
       "      <th>...</th>\n",
       "      <td>...</td>\n",
       "      <td>...</td>\n",
       "      <td>...</td>\n",
       "      <td>...</td>\n",
       "    </tr>\n",
       "    <tr>\n",
       "      <th>563</th>\n",
       "      <td>mixed_audio202a.wav</td>\n",
       "      <td>0.00000</td>\n",
       "      <td>2.72694</td>\n",
       "      <td>silence</td>\n",
       "    </tr>\n",
       "    <tr>\n",
       "      <th>847</th>\n",
       "      <td>mixed_audio37a.wav</td>\n",
       "      <td>5.73744</td>\n",
       "      <td>6.23075</td>\n",
       "      <td>silence</td>\n",
       "    </tr>\n",
       "    <tr>\n",
       "      <th>197</th>\n",
       "      <td>mixed_audio135a.wav</td>\n",
       "      <td>7.45525</td>\n",
       "      <td>9.45525</td>\n",
       "      <td>music</td>\n",
       "    </tr>\n",
       "    <tr>\n",
       "      <th>325</th>\n",
       "      <td>mixed_audio15a.wav</td>\n",
       "      <td>0.24063</td>\n",
       "      <td>3.24063</td>\n",
       "      <td>music</td>\n",
       "    </tr>\n",
       "    <tr>\n",
       "      <th>1095</th>\n",
       "      <td>mixed_audio82a.wav</td>\n",
       "      <td>2.12462</td>\n",
       "      <td>5.03756</td>\n",
       "      <td>silence</td>\n",
       "    </tr>\n",
       "  </tbody>\n",
       "</table>\n",
       "<p>1013 rows × 4 columns</p>\n",
       "</div>"
      ],
      "text/plain": [
       "                 filename    onset    offset class_name\n",
       "716    mixed_audio22a.wav  5.42231   9.42231      music\n",
       "599   mixed_audio209a.wav  0.26362   4.26362     speech\n",
       "402   mixed_audio173a.wav  9.47569  10.00000    silence\n",
       "1019   mixed_audio69a.wav  1.00306   4.00306      music\n",
       "191   mixed_audio134a.wav  4.29487   4.62350    silence\n",
       "...                   ...      ...       ...        ...\n",
       "563   mixed_audio202a.wav  0.00000   2.72694    silence\n",
       "847    mixed_audio37a.wav  5.73744   6.23075    silence\n",
       "197   mixed_audio135a.wav  7.45525   9.45525      music\n",
       "325    mixed_audio15a.wav  0.24063   3.24063      music\n",
       "1095   mixed_audio82a.wav  2.12462   5.03756    silence\n",
       "\n",
       "[1013 rows x 4 columns]"
      ]
     },
     "execution_count": 7,
     "metadata": {},
     "output_type": "execute_result"
    }
   ],
   "source": [
    "df_train"
   ]
  },
  {
   "cell_type": "code",
   "execution_count": 8,
   "metadata": {},
   "outputs": [
    {
     "data": {
      "text/html": [
       "<div>\n",
       "<style scoped>\n",
       "    .dataframe tbody tr th:only-of-type {\n",
       "        vertical-align: middle;\n",
       "    }\n",
       "\n",
       "    .dataframe tbody tr th {\n",
       "        vertical-align: top;\n",
       "    }\n",
       "\n",
       "    .dataframe thead th {\n",
       "        text-align: right;\n",
       "    }\n",
       "</style>\n",
       "<table border=\"1\" class=\"dataframe\">\n",
       "  <thead>\n",
       "    <tr style=\"text-align: right;\">\n",
       "      <th></th>\n",
       "      <th>filename</th>\n",
       "      <th>onset</th>\n",
       "      <th>offset</th>\n",
       "      <th>class_name</th>\n",
       "    </tr>\n",
       "  </thead>\n",
       "  <tbody>\n",
       "    <tr>\n",
       "      <th>0</th>\n",
       "      <td>mixed_audio0a.wav</td>\n",
       "      <td>0.00000</td>\n",
       "      <td>4.08306</td>\n",
       "      <td>silence</td>\n",
       "    </tr>\n",
       "    <tr>\n",
       "      <th>10</th>\n",
       "      <td>mixed_audio101a.wav</td>\n",
       "      <td>0.00000</td>\n",
       "      <td>0.74662</td>\n",
       "      <td>silence</td>\n",
       "    </tr>\n",
       "    <tr>\n",
       "      <th>15</th>\n",
       "      <td>mixed_audio102a.wav</td>\n",
       "      <td>0.00000</td>\n",
       "      <td>0.55350</td>\n",
       "      <td>silence</td>\n",
       "    </tr>\n",
       "    <tr>\n",
       "      <th>17</th>\n",
       "      <td>mixed_audio102a.wav</td>\n",
       "      <td>2.55350</td>\n",
       "      <td>5.83256</td>\n",
       "      <td>silence</td>\n",
       "    </tr>\n",
       "    <tr>\n",
       "      <th>29</th>\n",
       "      <td>mixed_audio104a.wav</td>\n",
       "      <td>9.96075</td>\n",
       "      <td>10.00000</td>\n",
       "      <td>silence</td>\n",
       "    </tr>\n",
       "    <tr>\n",
       "      <th>...</th>\n",
       "      <td>...</td>\n",
       "      <td>...</td>\n",
       "      <td>...</td>\n",
       "      <td>...</td>\n",
       "    </tr>\n",
       "    <tr>\n",
       "      <th>1162</th>\n",
       "      <td>mixed_audio95a.wav</td>\n",
       "      <td>0.00000</td>\n",
       "      <td>1.50537</td>\n",
       "      <td>silence</td>\n",
       "    </tr>\n",
       "    <tr>\n",
       "      <th>1163</th>\n",
       "      <td>mixed_audio95a.wav</td>\n",
       "      <td>1.50537</td>\n",
       "      <td>4.50537</td>\n",
       "      <td>music</td>\n",
       "    </tr>\n",
       "    <tr>\n",
       "      <th>1167</th>\n",
       "      <td>mixed_audio96a.wav</td>\n",
       "      <td>0.00000</td>\n",
       "      <td>1.89263</td>\n",
       "      <td>silence</td>\n",
       "    </tr>\n",
       "    <tr>\n",
       "      <th>1175</th>\n",
       "      <td>mixed_audio97a.wav</td>\n",
       "      <td>8.06525</td>\n",
       "      <td>9.06525</td>\n",
       "      <td>music</td>\n",
       "    </tr>\n",
       "    <tr>\n",
       "      <th>1183</th>\n",
       "      <td>mixed_audio99a.wav</td>\n",
       "      <td>1.32819</td>\n",
       "      <td>2.32819</td>\n",
       "      <td>speech</td>\n",
       "    </tr>\n",
       "  </tbody>\n",
       "</table>\n",
       "<p>179 rows × 4 columns</p>\n",
       "</div>"
      ],
      "text/plain": [
       "                 filename    onset    offset class_name\n",
       "0       mixed_audio0a.wav  0.00000   4.08306    silence\n",
       "10    mixed_audio101a.wav  0.00000   0.74662    silence\n",
       "15    mixed_audio102a.wav  0.00000   0.55350    silence\n",
       "17    mixed_audio102a.wav  2.55350   5.83256    silence\n",
       "29    mixed_audio104a.wav  9.96075  10.00000    silence\n",
       "...                   ...      ...       ...        ...\n",
       "1162   mixed_audio95a.wav  0.00000   1.50537    silence\n",
       "1163   mixed_audio95a.wav  1.50537   4.50537      music\n",
       "1167   mixed_audio96a.wav  0.00000   1.89263    silence\n",
       "1175   mixed_audio97a.wav  8.06525   9.06525      music\n",
       "1183   mixed_audio99a.wav  1.32819   2.32819     speech\n",
       "\n",
       "[179 rows x 4 columns]"
      ]
     },
     "execution_count": 8,
     "metadata": {},
     "output_type": "execute_result"
    }
   ],
   "source": [
    "df_test"
   ]
  },
  {
   "cell_type": "code",
   "execution_count": 9,
   "metadata": {},
   "outputs": [],
   "source": [
    "x_train = []\n",
    "y_train = []"
   ]
  },
  {
   "cell_type": "code",
   "execution_count": 10,
   "metadata": {},
   "outputs": [],
   "source": [
    "filename_train = df_train.filename.values\n",
    "classname_train = df_train.class_name.values\n",
    "onset_train = df_train.onset.values\n",
    "offset_train = df_train.offset.values"
   ]
  },
  {
   "cell_type": "code",
   "execution_count": 11,
   "metadata": {},
   "outputs": [
    {
     "data": {
      "text/plain": [
       "array(['mixed_audio22a.wav', 'mixed_audio209a.wav', 'mixed_audio173a.wav',\n",
       "       ..., 'mixed_audio135a.wav', 'mixed_audio15a.wav',\n",
       "       'mixed_audio82a.wav'], dtype=object)"
      ]
     },
     "execution_count": 11,
     "metadata": {},
     "output_type": "execute_result"
    }
   ],
   "source": [
    "filename_train"
   ]
  },
  {
   "cell_type": "code",
   "execution_count": 12,
   "metadata": {},
   "outputs": [
    {
     "data": {
      "text/plain": [
       "array([5.42231, 0.26362, 9.47569, ..., 7.45525, 0.24063, 2.12462])"
      ]
     },
     "execution_count": 12,
     "metadata": {},
     "output_type": "execute_result"
    }
   ],
   "source": [
    "onset_train"
   ]
  },
  {
   "cell_type": "code",
   "execution_count": 13,
   "metadata": {},
   "outputs": [
    {
     "data": {
      "text/plain": [
       "1013"
      ]
     },
     "execution_count": 13,
     "metadata": {},
     "output_type": "execute_result"
    }
   ],
   "source": [
    "len(classname_train)"
   ]
  },
  {
   "cell_type": "markdown",
   "metadata": {},
   "source": [
    "### MFCC Features and Label Encoding"
   ]
  },
  {
   "cell_type": "code",
   "execution_count": 14,
   "metadata": {},
   "outputs": [],
   "source": [
    "z = np.array([])\n",
    "Fs = 16000\n",
    "curr_on_train = 0\n",
    "curr_off_train = 0\n",
    "for i in range(len(filename_train)):\n",
    "    #print(i)\n",
    "    max_range_on = int(round(onset_train[i]*Fs,0))\n",
    "    max_range_off = int(round(offset_train[i]*Fs,0))\n",
    "    curr_on_train = max_range_on\n",
    "    curr_off_train = max_range_off\n",
    "    cnt =0\n",
    "    z,tsr = librosa.load('taal/'+filename_train[i],sr=16000)\n",
    "    temp2 = z[curr_on_train:curr_off_train]\n",
    "    mfcc = librosa.feature.mfcc(y=temp2,sr=16000,n_mfcc=20)\n",
    "    mfcc_n = []\n",
    "    for j in range (mfcc.shape[0]):\n",
    "        mfcc_n.append(mfcc[j].mean())\n",
    "    mfcc_n = np.array(mfcc_n)\n",
    "    x_train.append(mfcc_n)\n",
    "    \n",
    "    if classname_train[i]=='silence':\n",
    "        y_train.append([0,0,1])\n",
    "    if classname_train[i]=='speech':\n",
    "        y_train.append([1,0,0])\n",
    "    if classname_train[i]=='music':\n",
    "        y_train.append([0,1,0])    \n",
    "    "
   ]
  },
  {
   "cell_type": "code",
   "execution_count": 15,
   "metadata": {},
   "outputs": [
    {
     "data": {
      "text/plain": [
       "1013"
      ]
     },
     "execution_count": 15,
     "metadata": {},
     "output_type": "execute_result"
    }
   ],
   "source": [
    "len(x_train)"
   ]
  },
  {
   "cell_type": "code",
   "execution_count": 16,
   "metadata": {},
   "outputs": [],
   "source": [
    "filename_test = df_test.filename.values\n",
    "classname_test = df_test.class_name.values\n",
    "onset_test = df_test.onset.values\n",
    "offset_test = df_test.offset.values"
   ]
  },
  {
   "cell_type": "code",
   "execution_count": 17,
   "metadata": {},
   "outputs": [],
   "source": [
    "x_test = []\n",
    "y_test = []"
   ]
  },
  {
   "cell_type": "code",
   "execution_count": 18,
   "metadata": {},
   "outputs": [
    {
     "name": "stdout",
     "output_type": "stream",
     "text": [
      "on and off 0 65329 82\n",
      "sUMI 7605\n"
     ]
    }
   ],
   "source": [
    "x = np.array([])\n",
    "Fs = 16000\n",
    "curr_on_test = 0\n",
    "curr_off_test = 0\n",
    "sumi=0\n",
    "\n",
    "for i in range(0,len(filename_test)):\n",
    "    #print(i)\n",
    "    x,ysr = librosa.load('taal/'+filename_test[i],sr=Fs)\n",
    "    max_range_on = int(round(onset_test[i]*Fs,0))\n",
    "    max_range_off = int(round(offset_test[i]*Fs,0))\n",
    "    curr_on_test = max_range_on\n",
    "    curr_off_test = max_range_off\n",
    "    j=curr_on_test  \n",
    "    cnt =0\n",
    "    while j<curr_off_test:\n",
    "        cnt +=1\n",
    "        end = min(j+800,curr_off_test)\n",
    "#         print(\" j and end \"+ str(j)+ \" \"+ str(end))\n",
    "        temp2 = x[j:end]\n",
    "        mfcc = librosa.feature.mfcc(y=temp2,sr=16000,n_mfcc=20)\n",
    "        mfcc_n =[]\n",
    "        for k in range(mfcc.shape[0]):\n",
    "            mfcc_n.append(mfcc[k].mean())\n",
    "        mfcc_n = np.array(mfcc_n)\n",
    "        x_test.append(mfcc_n)\n",
    "        if classname_test[i]=='silence':\n",
    "            y_test.append([0,0,1])\n",
    "        elif classname_test[i]=='speech':\n",
    "            y_test.append([1,0,0])\n",
    "        elif classname_test[i]=='music':\n",
    "            y_test.append([0,1,0])\n",
    "        j =end\n",
    "    \n",
    "    sumi +=cnt    \n",
    "    if i==0:\n",
    "        print('on and off ' + str(curr_on_test) + \" \" + str(curr_off_test) + \" \"+str(sumi))\n",
    "print(\"sUMI \" + str(sumi))\n",
    " "
   ]
  },
  {
   "cell_type": "code",
   "execution_count": 19,
   "metadata": {},
   "outputs": [],
   "source": [
    "X_train = np.array(x_train)"
   ]
  },
  {
   "cell_type": "code",
   "execution_count": 20,
   "metadata": {},
   "outputs": [
    {
     "data": {
      "text/plain": [
       "(1013, 20)"
      ]
     },
     "execution_count": 20,
     "metadata": {},
     "output_type": "execute_result"
    }
   ],
   "source": [
    "X_train.shape"
   ]
  },
  {
   "cell_type": "code",
   "execution_count": 21,
   "metadata": {},
   "outputs": [],
   "source": [
    "X_test = np.array(x_test)"
   ]
  },
  {
   "cell_type": "code",
   "execution_count": 22,
   "metadata": {},
   "outputs": [
    {
     "data": {
      "text/plain": [
       "(7605, 20)"
      ]
     },
     "execution_count": 22,
     "metadata": {},
     "output_type": "execute_result"
    }
   ],
   "source": [
    "X_test.shape"
   ]
  },
  {
   "cell_type": "code",
   "execution_count": 23,
   "metadata": {},
   "outputs": [],
   "source": [
    "Y_train = np.array(y_train)"
   ]
  },
  {
   "cell_type": "code",
   "execution_count": 24,
   "metadata": {},
   "outputs": [
    {
     "data": {
      "text/plain": [
       "(1013, 3)"
      ]
     },
     "execution_count": 24,
     "metadata": {},
     "output_type": "execute_result"
    }
   ],
   "source": [
    "Y_train.shape"
   ]
  },
  {
   "cell_type": "code",
   "execution_count": 25,
   "metadata": {},
   "outputs": [],
   "source": [
    "Y_test = np.array(y_test)"
   ]
  },
  {
   "cell_type": "code",
   "execution_count": 26,
   "metadata": {},
   "outputs": [
    {
     "data": {
      "text/plain": [
       "(7605, 3)"
      ]
     },
     "execution_count": 26,
     "metadata": {},
     "output_type": "execute_result"
    }
   ],
   "source": [
    "Y_test.shape"
   ]
  },
  {
   "cell_type": "code",
   "execution_count": 27,
   "metadata": {},
   "outputs": [],
   "source": [
    "from tensorflow.keras import Sequential\n",
    "from tensorflow.keras.layers import Dense, Dropout, Conv2D, MaxPool2D, BatchNormalization, Flatten, LSTM"
   ]
  },
  {
   "cell_type": "markdown",
   "metadata": {},
   "source": [
    "### Building a Simple Neural Network Model"
   ]
  },
  {
   "cell_type": "code",
   "execution_count": 53,
   "metadata": {},
   "outputs": [],
   "source": [
    "model = Sequential()\n",
    "model.add(Dense(64,activation='relu',input_shape =(20,)))\n",
    "model.add(Dropout(0.2))\n",
    "model.add(Dense(64,activation='relu'))\n",
    "model.add(Dropout(0.4))\n",
    "model.add(Dense(128,activation='relu'))\n",
    "model.add(Dropout(0.4))\n",
    "model.add(Dense(64,activation='relu'))\n",
    "model.add(Dropout(0.2))\n",
    "model.add(Dense(64,activation='relu'))\n",
    "model.add(Dense(3,activation='softmax'))"
   ]
  },
  {
   "cell_type": "code",
   "execution_count": 57,
   "metadata": {},
   "outputs": [
    {
     "name": "stdout",
     "output_type": "stream",
     "text": [
      "Model: \"sequential_2\"\n",
      "_________________________________________________________________\n",
      "Layer (type)                 Output Shape              Param #   \n",
      "=================================================================\n",
      "dense_12 (Dense)             (None, 64)                1344      \n",
      "_________________________________________________________________\n",
      "dropout_8 (Dropout)          (None, 64)                0         \n",
      "_________________________________________________________________\n",
      "dense_13 (Dense)             (None, 64)                4160      \n",
      "_________________________________________________________________\n",
      "dropout_9 (Dropout)          (None, 64)                0         \n",
      "_________________________________________________________________\n",
      "dense_14 (Dense)             (None, 128)               8320      \n",
      "_________________________________________________________________\n",
      "dropout_10 (Dropout)         (None, 128)               0         \n",
      "_________________________________________________________________\n",
      "dense_15 (Dense)             (None, 64)                8256      \n",
      "_________________________________________________________________\n",
      "dropout_11 (Dropout)         (None, 64)                0         \n",
      "_________________________________________________________________\n",
      "dense_16 (Dense)             (None, 64)                4160      \n",
      "_________________________________________________________________\n",
      "dense_17 (Dense)             (None, 3)                 195       \n",
      "=================================================================\n",
      "Total params: 26,435\n",
      "Trainable params: 26,435\n",
      "Non-trainable params: 0\n",
      "_________________________________________________________________\n"
     ]
    }
   ],
   "source": [
    "model.summary()"
   ]
  },
  {
   "cell_type": "code",
   "execution_count": 58,
   "metadata": {},
   "outputs": [],
   "source": [
    "model.compile(optimizer='adam',loss='categorical_crossentropy',metrics=['accuracy'])"
   ]
  },
  {
   "cell_type": "code",
   "execution_count": 60,
   "metadata": {},
   "outputs": [
    {
     "name": "stdout",
     "output_type": "stream",
     "text": [
      "Epoch 1/100\n",
      "64/64 [==============================] - 1s 8ms/step - loss: 7.9977 - accuracy: 0.6041 - val_loss: 1.1414 - val_accuracy: 0.7858\n",
      "Epoch 2/100\n",
      "64/64 [==============================] - 0s 6ms/step - loss: 1.8750 - accuracy: 0.7256 - val_loss: 0.5468 - val_accuracy: 0.8592\n",
      "Epoch 3/100\n",
      "64/64 [==============================] - 0s 5ms/step - loss: 1.1118 - accuracy: 0.7749 - val_loss: 0.4010 - val_accuracy: 0.8698\n",
      "Epoch 4/100\n",
      "64/64 [==============================] - 0s 6ms/step - loss: 0.8360 - accuracy: 0.7887 - val_loss: 0.5092 - val_accuracy: 0.8565\n",
      "Epoch 5/100\n",
      "64/64 [==============================] - 0s 6ms/step - loss: 0.6310 - accuracy: 0.8282 - val_loss: 0.3893 - val_accuracy: 0.8771\n",
      "Epoch 6/100\n",
      "64/64 [==============================] - 0s 6ms/step - loss: 0.3496 - accuracy: 0.8855 - val_loss: 0.3349 - val_accuracy: 0.8969\n",
      "Epoch 7/100\n",
      "64/64 [==============================] - 0s 6ms/step - loss: 0.3392 - accuracy: 0.8963 - val_loss: 0.4187 - val_accuracy: 0.8944\n",
      "Epoch 8/100\n",
      "64/64 [==============================] - 0s 6ms/step - loss: 0.2677 - accuracy: 0.9102 - val_loss: 0.3988 - val_accuracy: 0.8995\n",
      "Epoch 9/100\n",
      "64/64 [==============================] - 0s 5ms/step - loss: 0.2281 - accuracy: 0.9398 - val_loss: 0.4898 - val_accuracy: 0.8932\n",
      "Epoch 10/100\n",
      "64/64 [==============================] - 0s 6ms/step - loss: 0.1983 - accuracy: 0.9269 - val_loss: 0.3269 - val_accuracy: 0.9158\n",
      "Epoch 11/100\n",
      "64/64 [==============================] - 0s 6ms/step - loss: 0.1743 - accuracy: 0.9378 - val_loss: 0.3741 - val_accuracy: 0.9145\n",
      "Epoch 12/100\n",
      "64/64 [==============================] - 0s 5ms/step - loss: 0.1636 - accuracy: 0.9566 - val_loss: 0.4071 - val_accuracy: 0.9123\n",
      "Epoch 13/100\n",
      "64/64 [==============================] - 0s 5ms/step - loss: 0.1504 - accuracy: 0.9477 - val_loss: 0.5281 - val_accuracy: 0.9051\n",
      "Epoch 14/100\n",
      "64/64 [==============================] - 0s 6ms/step - loss: 0.1283 - accuracy: 0.9595 - val_loss: 0.4021 - val_accuracy: 0.9216\n",
      "Epoch 15/100\n",
      "64/64 [==============================] - 0s 5ms/step - loss: 0.1169 - accuracy: 0.9556 - val_loss: 0.3623 - val_accuracy: 0.9233\n",
      "Epoch 16/100\n",
      "64/64 [==============================] - 0s 5ms/step - loss: 0.0963 - accuracy: 0.9645 - val_loss: 0.5010 - val_accuracy: 0.9155\n",
      "Epoch 17/100\n",
      "64/64 [==============================] - 0s 5ms/step - loss: 0.0984 - accuracy: 0.9714 - val_loss: 0.5525 - val_accuracy: 0.9144\n",
      "Epoch 18/100\n",
      "64/64 [==============================] - 0s 5ms/step - loss: 0.0663 - accuracy: 0.9773 - val_loss: 0.5710 - val_accuracy: 0.9144\n",
      "Epoch 19/100\n",
      "64/64 [==============================] - 0s 5ms/step - loss: 0.0794 - accuracy: 0.9704 - val_loss: 0.6638 - val_accuracy: 0.9080\n",
      "Epoch 20/100\n",
      "64/64 [==============================] - 0s 6ms/step - loss: 0.0632 - accuracy: 0.9743 - val_loss: 0.6218 - val_accuracy: 0.9133\n",
      "Epoch 21/100\n",
      "64/64 [==============================] - 0s 5ms/step - loss: 0.0741 - accuracy: 0.9763 - val_loss: 0.6411 - val_accuracy: 0.9131\n",
      "Epoch 22/100\n",
      "64/64 [==============================] - 0s 5ms/step - loss: 0.0645 - accuracy: 0.9783 - val_loss: 0.6243 - val_accuracy: 0.9155\n",
      "Epoch 23/100\n",
      "64/64 [==============================] - 0s 5ms/step - loss: 0.0815 - accuracy: 0.9773 - val_loss: 0.7090 - val_accuracy: 0.9112\n",
      "Epoch 24/100\n",
      "64/64 [==============================] - 0s 6ms/step - loss: 0.0677 - accuracy: 0.9793 - val_loss: 0.7413 - val_accuracy: 0.9103\n",
      "Epoch 25/100\n",
      "64/64 [==============================] - 0s 6ms/step - loss: 0.0533 - accuracy: 0.9793 - val_loss: 0.7117 - val_accuracy: 0.9148\n",
      "Epoch 26/100\n",
      "64/64 [==============================] - 0s 6ms/step - loss: 0.0598 - accuracy: 0.9793 - val_loss: 1.1052 - val_accuracy: 0.9044\n",
      "Epoch 27/100\n",
      "64/64 [==============================] - 0s 5ms/step - loss: 0.0682 - accuracy: 0.9812 - val_loss: 0.9360 - val_accuracy: 0.9089\n",
      "Epoch 28/100\n",
      "64/64 [==============================] - 0s 5ms/step - loss: 0.0492 - accuracy: 0.9822 - val_loss: 0.8173 - val_accuracy: 0.9122\n",
      "Epoch 29/100\n",
      "64/64 [==============================] - 0s 5ms/step - loss: 0.0606 - accuracy: 0.9832 - val_loss: 1.0515 - val_accuracy: 0.9087\n",
      "Epoch 30/100\n",
      "64/64 [==============================] - 0s 5ms/step - loss: 0.0524 - accuracy: 0.9832 - val_loss: 0.8543 - val_accuracy: 0.9143\n",
      "Epoch 31/100\n",
      "64/64 [==============================] - 0s 6ms/step - loss: 0.0408 - accuracy: 0.9852 - val_loss: 0.7029 - val_accuracy: 0.9199\n",
      "Epoch 32/100\n",
      "64/64 [==============================] - 0s 5ms/step - loss: 0.0380 - accuracy: 0.9882 - val_loss: 0.9891 - val_accuracy: 0.9115\n",
      "Epoch 33/100\n",
      "64/64 [==============================] - 0s 5ms/step - loss: 0.0370 - accuracy: 0.9842 - val_loss: 1.2719 - val_accuracy: 0.9108\n",
      "Epoch 34/100\n",
      "64/64 [==============================] - 0s 5ms/step - loss: 0.0622 - accuracy: 0.9832 - val_loss: 0.5964 - val_accuracy: 0.9306\n",
      "Epoch 35/100\n",
      "64/64 [==============================] - 0s 5ms/step - loss: 0.0442 - accuracy: 0.9852 - val_loss: 0.5611 - val_accuracy: 0.9297\n",
      "Epoch 36/100\n",
      "64/64 [==============================] - 0s 5ms/step - loss: 0.0365 - accuracy: 0.9852 - val_loss: 0.8497 - val_accuracy: 0.9227\n",
      "Epoch 37/100\n",
      "64/64 [==============================] - 0s 6ms/step - loss: 0.0383 - accuracy: 0.9911 - val_loss: 0.9289 - val_accuracy: 0.9185\n",
      "Epoch 38/100\n",
      "64/64 [==============================] - 0s 5ms/step - loss: 0.0409 - accuracy: 0.9891 - val_loss: 0.7675 - val_accuracy: 0.9243\n",
      "Epoch 39/100\n",
      "64/64 [==============================] - 0s 5ms/step - loss: 0.0248 - accuracy: 0.9891 - val_loss: 1.0254 - val_accuracy: 0.9216\n",
      "Epoch 40/100\n",
      "64/64 [==============================] - 0s 5ms/step - loss: 0.0307 - accuracy: 0.9901 - val_loss: 1.0473 - val_accuracy: 0.9226\n",
      "Epoch 41/100\n",
      "64/64 [==============================] - 0s 5ms/step - loss: 0.0351 - accuracy: 0.9911 - val_loss: 0.7959 - val_accuracy: 0.9291\n",
      "Epoch 42/100\n",
      "64/64 [==============================] - 0s 5ms/step - loss: 0.0277 - accuracy: 0.9941 - val_loss: 1.1751 - val_accuracy: 0.9226\n",
      "Epoch 43/100\n",
      "64/64 [==============================] - 0s 6ms/step - loss: 0.0211 - accuracy: 0.9961 - val_loss: 1.1463 - val_accuracy: 0.9243\n",
      "Epoch 44/100\n",
      "64/64 [==============================] - 0s 5ms/step - loss: 0.0109 - accuracy: 0.9980 - val_loss: 1.2601 - val_accuracy: 0.9232\n",
      "Epoch 45/100\n",
      "64/64 [==============================] - 0s 5ms/step - loss: 0.0256 - accuracy: 0.9951 - val_loss: 0.7697 - val_accuracy: 0.9310\n",
      "Epoch 46/100\n",
      "64/64 [==============================] - 0s 5ms/step - loss: 0.0278 - accuracy: 0.9941 - val_loss: 1.0294 - val_accuracy: 0.9224\n",
      "Epoch 47/100\n",
      "64/64 [==============================] - 0s 6ms/step - loss: 0.0069 - accuracy: 1.0000 - val_loss: 1.0840 - val_accuracy: 0.9256\n",
      "Epoch 48/100\n",
      "64/64 [==============================] - 0s 6ms/step - loss: 0.0211 - accuracy: 0.9941 - val_loss: 1.1268 - val_accuracy: 0.9240\n",
      "Epoch 49/100\n",
      "64/64 [==============================] - 0s 5ms/step - loss: 0.0186 - accuracy: 0.9961 - val_loss: 1.2465 - val_accuracy: 0.9220\n",
      "Epoch 50/100\n",
      "64/64 [==============================] - 0s 5ms/step - loss: 0.0187 - accuracy: 0.9941 - val_loss: 1.2864 - val_accuracy: 0.9227\n",
      "Epoch 51/100\n",
      "64/64 [==============================] - 0s 6ms/step - loss: 0.0173 - accuracy: 0.9961 - val_loss: 1.0272 - val_accuracy: 0.9269\n",
      "Epoch 52/100\n",
      "64/64 [==============================] - 0s 5ms/step - loss: 0.0246 - accuracy: 0.9941 - val_loss: 1.1745 - val_accuracy: 0.9228\n",
      "Epoch 53/100\n",
      "64/64 [==============================] - 0s 5ms/step - loss: 0.0295 - accuracy: 0.9921 - val_loss: 0.7625 - val_accuracy: 0.9362\n",
      "Epoch 54/100\n",
      "64/64 [==============================] - 0s 5ms/step - loss: 0.0113 - accuracy: 0.9980 - val_loss: 0.9718 - val_accuracy: 0.9287\n",
      "Epoch 55/100\n",
      "64/64 [==============================] - 0s 6ms/step - loss: 0.0204 - accuracy: 0.9961 - val_loss: 1.2518 - val_accuracy: 0.9253\n",
      "Epoch 56/100\n",
      "64/64 [==============================] - 0s 5ms/step - loss: 0.0088 - accuracy: 0.9990 - val_loss: 1.1494 - val_accuracy: 0.9281\n",
      "Epoch 57/100\n",
      "64/64 [==============================] - 0s 5ms/step - loss: 0.0139 - accuracy: 0.9951 - val_loss: 1.2882 - val_accuracy: 0.9278\n",
      "Epoch 58/100\n",
      "64/64 [==============================] - 0s 5ms/step - loss: 0.0148 - accuracy: 0.9970 - val_loss: 1.8724 - val_accuracy: 0.9148\n"
     ]
    },
    {
     "name": "stdout",
     "output_type": "stream",
     "text": [
      "Epoch 59/100\n",
      "64/64 [==============================] - 0s 5ms/step - loss: 0.0341 - accuracy: 0.9931 - val_loss: 0.8603 - val_accuracy: 0.9381\n",
      "Epoch 60/100\n",
      "64/64 [==============================] - 0s 5ms/step - loss: 0.0163 - accuracy: 0.9941 - val_loss: 1.0726 - val_accuracy: 0.9350\n",
      "Epoch 61/100\n",
      "64/64 [==============================] - 0s 6ms/step - loss: 0.0145 - accuracy: 0.9961 - val_loss: 1.2078 - val_accuracy: 0.9314\n",
      "Epoch 62/100\n",
      "64/64 [==============================] - 0s 5ms/step - loss: 0.0029 - accuracy: 1.0000 - val_loss: 1.0604 - val_accuracy: 0.9377\n",
      "Epoch 63/100\n",
      "64/64 [==============================] - 0s 5ms/step - loss: 0.0126 - accuracy: 0.9961 - val_loss: 1.1671 - val_accuracy: 0.9344\n",
      "Epoch 64/100\n",
      "64/64 [==============================] - 0s 5ms/step - loss: 0.0100 - accuracy: 0.9970 - val_loss: 1.8662 - val_accuracy: 0.9191\n",
      "Epoch 65/100\n",
      "64/64 [==============================] - 0s 5ms/step - loss: 0.0114 - accuracy: 0.9970 - val_loss: 1.4741 - val_accuracy: 0.9294\n",
      "Epoch 66/100\n",
      "64/64 [==============================] - 0s 5ms/step - loss: 0.0043 - accuracy: 1.0000 - val_loss: 1.4708 - val_accuracy: 0.9318\n",
      "Epoch 67/100\n",
      "64/64 [==============================] - 0s 5ms/step - loss: 0.0060 - accuracy: 0.9980 - val_loss: 1.7324 - val_accuracy: 0.9282\n",
      "Epoch 68/100\n",
      "64/64 [==============================] - 0s 5ms/step - loss: 0.0022 - accuracy: 1.0000 - val_loss: 2.0346 - val_accuracy: 0.9261\n",
      "Epoch 69/100\n",
      "64/64 [==============================] - 0s 5ms/step - loss: 0.0042 - accuracy: 0.9980 - val_loss: 1.2389 - val_accuracy: 0.9393\n",
      "Epoch 70/100\n",
      "64/64 [==============================] - 0s 7ms/step - loss: 0.0153 - accuracy: 0.9961 - val_loss: 2.0953 - val_accuracy: 0.9270\n",
      "Epoch 71/100\n",
      "64/64 [==============================] - 0s 5ms/step - loss: 0.0109 - accuracy: 0.9961 - val_loss: 1.1140 - val_accuracy: 0.9407\n",
      "Epoch 72/100\n",
      "64/64 [==============================] - 0s 6ms/step - loss: 0.0190 - accuracy: 0.9970 - val_loss: 1.3185 - val_accuracy: 0.9358\n",
      "Epoch 73/100\n",
      "64/64 [==============================] - 0s 5ms/step - loss: 0.0099 - accuracy: 0.9980 - val_loss: 1.4914 - val_accuracy: 0.9308\n",
      "Epoch 74/100\n",
      "64/64 [==============================] - 0s 5ms/step - loss: 0.0183 - accuracy: 0.9951 - val_loss: 1.0171 - val_accuracy: 0.9315\n",
      "Epoch 75/100\n",
      "64/64 [==============================] - 0s 5ms/step - loss: 0.0016 - accuracy: 1.0000 - val_loss: 0.9686 - val_accuracy: 0.9360\n",
      "Epoch 76/100\n",
      "64/64 [==============================] - 0s 5ms/step - loss: 0.0046 - accuracy: 0.9980 - val_loss: 1.1151 - val_accuracy: 0.9344\n",
      "Epoch 77/100\n",
      "64/64 [==============================] - 0s 5ms/step - loss: 0.0132 - accuracy: 0.9980 - val_loss: 1.4271 - val_accuracy: 0.9248\n",
      "Epoch 78/100\n",
      "64/64 [==============================] - 0s 5ms/step - loss: 0.0010 - accuracy: 1.0000 - val_loss: 1.3651 - val_accuracy: 0.9279\n",
      "Epoch 79/100\n",
      "64/64 [==============================] - 0s 5ms/step - loss: 0.0018 - accuracy: 0.9990 - val_loss: 1.2531 - val_accuracy: 0.9316\n",
      "Epoch 80/100\n",
      "64/64 [==============================] - 0s 5ms/step - loss: 8.2968e-04 - accuracy: 1.0000 - val_loss: 1.2857 - val_accuracy: 0.9321\n",
      "Epoch 81/100\n",
      "64/64 [==============================] - 0s 5ms/step - loss: 0.0012 - accuracy: 1.0000 - val_loss: 1.6747 - val_accuracy: 0.9244\n",
      "Epoch 82/100\n",
      "64/64 [==============================] - 0s 5ms/step - loss: 0.0189 - accuracy: 0.9961 - val_loss: 0.7278 - val_accuracy: 0.9441\n",
      "Epoch 83/100\n",
      "64/64 [==============================] - 0s 5ms/step - loss: 0.0122 - accuracy: 0.9990 - val_loss: 0.8756 - val_accuracy: 0.9373\n",
      "Epoch 84/100\n",
      "64/64 [==============================] - 0s 5ms/step - loss: 0.0113 - accuracy: 0.9961 - val_loss: 0.7442 - val_accuracy: 0.9385\n",
      "Epoch 85/100\n",
      "64/64 [==============================] - 0s 6ms/step - loss: 0.0031 - accuracy: 0.9990 - val_loss: 0.8888 - val_accuracy: 0.9368\n",
      "Epoch 86/100\n",
      "64/64 [==============================] - 0s 5ms/step - loss: 0.0035 - accuracy: 0.9980 - val_loss: 0.9846 - val_accuracy: 0.9348\n",
      "Epoch 87/100\n",
      "64/64 [==============================] - 0s 5ms/step - loss: 0.0017 - accuracy: 1.0000 - val_loss: 1.2153 - val_accuracy: 0.9306\n",
      "Epoch 88/100\n",
      "64/64 [==============================] - 0s 5ms/step - loss: 0.0047 - accuracy: 0.9980 - val_loss: 1.6701 - val_accuracy: 0.9274\n",
      "Epoch 89/100\n",
      "64/64 [==============================] - 0s 5ms/step - loss: 0.0027 - accuracy: 0.9980 - val_loss: 1.6789 - val_accuracy: 0.9279\n",
      "Epoch 90/100\n",
      "64/64 [==============================] - 0s 5ms/step - loss: 0.0060 - accuracy: 0.9990 - val_loss: 1.2770 - val_accuracy: 0.9336\n",
      "Epoch 91/100\n",
      "64/64 [==============================] - 0s 6ms/step - loss: 0.0156 - accuracy: 0.9990 - val_loss: 1.0084 - val_accuracy: 0.9333\n",
      "Epoch 92/100\n",
      "64/64 [==============================] - 0s 5ms/step - loss: 0.0012 - accuracy: 1.0000 - val_loss: 0.9196 - val_accuracy: 0.9365\n",
      "Epoch 93/100\n",
      "64/64 [==============================] - 0s 5ms/step - loss: 0.0036 - accuracy: 0.9990 - val_loss: 0.7351 - val_accuracy: 0.9404\n",
      "Epoch 94/100\n",
      "64/64 [==============================] - 0s 5ms/step - loss: 0.0119 - accuracy: 0.9990 - val_loss: 1.0218 - val_accuracy: 0.9308\n",
      "Epoch 95/100\n",
      "64/64 [==============================] - 0s 5ms/step - loss: 0.0024 - accuracy: 0.9990 - val_loss: 1.0590 - val_accuracy: 0.9307\n",
      "Epoch 96/100\n",
      "64/64 [==============================] - 0s 5ms/step - loss: 0.0014 - accuracy: 1.0000 - val_loss: 1.1696 - val_accuracy: 0.9349\n",
      "Epoch 97/100\n",
      "64/64 [==============================] - 0s 6ms/step - loss: 0.0042 - accuracy: 0.9990 - val_loss: 1.3233 - val_accuracy: 0.9303\n",
      "Epoch 98/100\n",
      "64/64 [==============================] - 0s 5ms/step - loss: 8.6284e-04 - accuracy: 1.0000 - val_loss: 1.3546 - val_accuracy: 0.9307\n",
      "Epoch 99/100\n",
      "64/64 [==============================] - 0s 5ms/step - loss: 3.4683e-04 - accuracy: 1.0000 - val_loss: 1.3313 - val_accuracy: 0.9333\n",
      "Epoch 100/100\n",
      "64/64 [==============================] - 0s 5ms/step - loss: 7.2271e-04 - accuracy: 1.0000 - val_loss: 1.3445 - val_accuracy: 0.9339\n"
     ]
    },
    {
     "data": {
      "text/plain": [
       "<keras.callbacks.History at 0x1602cf68af0>"
      ]
     },
     "execution_count": 60,
     "metadata": {},
     "output_type": "execute_result"
    }
   ],
   "source": [
    "model.fit(X_train, Y_train, epochs=100, batch_size=16, validation_data=(X_test, Y_test), shuffle=False)"
   ]
  },
  {
   "cell_type": "code",
   "execution_count": 62,
   "metadata": {},
   "outputs": [
    {
     "name": "stdout",
     "output_type": "stream",
     "text": [
      "INFO:tensorflow:Assets written to: tfModel\\assets\n"
     ]
    }
   ],
   "source": [
    "model.save('tfModel')"
   ]
  },
  {
   "cell_type": "code",
   "execution_count": 63,
   "metadata": {},
   "outputs": [],
   "source": [
    "loss, acc = model.evaluate(X_test, Y_test, verbose=0)"
   ]
  },
  {
   "cell_type": "code",
   "execution_count": 64,
   "metadata": {},
   "outputs": [
    {
     "data": {
      "text/plain": [
       "1.3445290327072144"
      ]
     },
     "execution_count": 64,
     "metadata": {},
     "output_type": "execute_result"
    }
   ],
   "source": [
    "loss"
   ]
  },
  {
   "cell_type": "code",
   "execution_count": 65,
   "metadata": {},
   "outputs": [
    {
     "data": {
      "text/plain": [
       "0.9338592886924744"
      ]
     },
     "execution_count": 65,
     "metadata": {},
     "output_type": "execute_result"
    }
   ],
   "source": [
    "acc"
   ]
  }
 ],
 "metadata": {
  "kernelspec": {
   "display_name": "Python 3",
   "language": "python",
   "name": "python3"
  },
  "language_info": {
   "codemirror_mode": {
    "name": "ipython",
    "version": 3
   },
   "file_extension": ".py",
   "mimetype": "text/x-python",
   "name": "python",
   "nbconvert_exporter": "python",
   "pygments_lexer": "ipython3",
   "version": "3.8.5"
  }
 },
 "nbformat": 4,
 "nbformat_minor": 4
}
